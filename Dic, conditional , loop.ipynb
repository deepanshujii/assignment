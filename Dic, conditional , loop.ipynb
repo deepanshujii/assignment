{
 "cells": [
  {
   "cell_type": "code",
   "execution_count": 1,
   "id": "c5e0cbb5-3638-4d43-bbd4-0a2aa5f28cfe",
   "metadata": {},
   "outputs": [],
   "source": [
    "d = {}"
   ]
  },
  {
   "cell_type": "code",
   "execution_count": 2,
   "id": "72411fe3-84f4-4072-b5a9-25644d95294a",
   "metadata": {},
   "outputs": [
    {
     "data": {
      "text/plain": [
       "dict"
      ]
     },
     "execution_count": 2,
     "metadata": {},
     "output_type": "execute_result"
    }
   ],
   "source": [
    "type(d)"
   ]
  },
  {
   "cell_type": "code",
   "execution_count": 3,
   "id": "1723cc1f-07d7-4818-8031-06cb28ee29b6",
   "metadata": {},
   "outputs": [],
   "source": [
    "d1 = {'key' : \"sudh\"}"
   ]
  },
  {
   "cell_type": "code",
   "execution_count": 4,
   "id": "790845fb-7c19-4ea2-bfe8-6170f820fdfc",
   "metadata": {},
   "outputs": [
    {
     "data": {
      "text/plain": [
       "{'key': 'sudh'}"
      ]
     },
     "execution_count": 4,
     "metadata": {},
     "output_type": "execute_result"
    }
   ],
   "source": [
    "d1"
   ]
  },
  {
   "cell_type": "code",
   "execution_count": 6,
   "id": "01968772-c1ca-448c-9f1f-92ded175165c",
   "metadata": {},
   "outputs": [],
   "source": [
    "d2 = {'name' : \"sudhanshu\" , \"email\" : \"ss@gmail.com\", \"number\" : 334534}"
   ]
  },
  {
   "cell_type": "code",
   "execution_count": 7,
   "id": "67872b60-ecfd-4f2b-ac50-9f3995ce515c",
   "metadata": {},
   "outputs": [
    {
     "data": {
      "text/plain": [
       "{'name': 'sudhanshu', 'email': 'ss@gmail.com', 'number': 334534}"
      ]
     },
     "execution_count": 7,
     "metadata": {},
     "output_type": "execute_result"
    }
   ],
   "source": [
    "d2"
   ]
  },
  {
   "cell_type": "code",
   "execution_count": 9,
   "id": "78ac0139-0c98-4d44-b0f6-8d10c8293374",
   "metadata": {},
   "outputs": [],
   "source": [
    "d3 ={234 : \"sudh\" , '_wer' : \"kumar\",True :243234}"
   ]
  },
  {
   "cell_type": "code",
   "execution_count": 10,
   "id": "25e512a2-c74f-4ec1-9305-fd9adc110032",
   "metadata": {},
   "outputs": [
    {
     "data": {
      "text/plain": [
       "{234: 'sudh', '_wer': 'kumar', True: 243234}"
      ]
     },
     "execution_count": 10,
     "metadata": {},
     "output_type": "execute_result"
    }
   ],
   "source": [
    "d3"
   ]
  },
  {
   "cell_type": "code",
   "execution_count": 11,
   "id": "b2a92b7f-6c44-4607-a1b4-e0171f2cf5bf",
   "metadata": {},
   "outputs": [
    {
     "data": {
      "text/plain": [
       "'sudh'"
      ]
     },
     "execution_count": 11,
     "metadata": {},
     "output_type": "execute_result"
    }
   ],
   "source": [
    "d3[234]"
   ]
  },
  {
   "cell_type": "code",
   "execution_count": 12,
   "id": "c4b42ee8-249b-417b-8ab8-23b7cbb6a919",
   "metadata": {},
   "outputs": [
    {
     "data": {
      "text/plain": [
       "243234"
      ]
     },
     "execution_count": 12,
     "metadata": {},
     "output_type": "execute_result"
    }
   ],
   "source": [
    "d3[True]"
   ]
  },
  {
   "cell_type": "code",
   "execution_count": 14,
   "id": "eb5ca43e-203b-4a5a-8796-6c4430a650e4",
   "metadata": {},
   "outputs": [
    {
     "data": {
      "text/plain": [
       "243234"
      ]
     },
     "execution_count": 14,
     "metadata": {},
     "output_type": "execute_result"
    }
   ],
   "source": [
    "d3[1]"
   ]
  },
  {
   "cell_type": "code",
   "execution_count": 20,
   "id": "6b9c3530-03f8-4607-a504-3c98c3c299fa",
   "metadata": {},
   "outputs": [],
   "source": [
    "d4 = {'name':\"sudh\" , 'mail_id' :\"ss@gmail.com\" , \"name\":\"sudhanshu\"}"
   ]
  },
  {
   "cell_type": "code",
   "execution_count": 21,
   "id": "590d91fd-9c9c-4514-acb6-e38bd3d94818",
   "metadata": {},
   "outputs": [
    {
     "data": {
      "text/plain": [
       "'sudhanshu'"
      ]
     },
     "execution_count": 21,
     "metadata": {},
     "output_type": "execute_result"
    }
   ],
   "source": [
    "d4['name']"
   ]
  },
  {
   "cell_type": "code",
   "execution_count": 2,
   "id": "f695dc65-27e3-4474-a1d0-7c0436c9d332",
   "metadata": {},
   "outputs": [],
   "source": [
    "d5 = {\"company\" : \"pwskills\" , \"course\" :[\"web dev\" , \"data science\" , \"java with system design\"]} "
   ]
  },
  {
   "cell_type": "code",
   "execution_count": 4,
   "id": "f12fa84e-3f0d-49a3-8d36-a9733713a9bc",
   "metadata": {},
   "outputs": [
    {
     "data": {
      "text/plain": [
       "['web dev', 'data science', 'java with system design']"
      ]
     },
     "execution_count": 4,
     "metadata": {},
     "output_type": "execute_result"
    }
   ],
   "source": [
    "d5['course']"
   ]
  },
  {
   "cell_type": "code",
   "execution_count": 6,
   "id": "f664c30e-72ce-41b5-bae0-86f07986a1dc",
   "metadata": {},
   "outputs": [
    {
     "data": {
      "text/plain": [
       "'java with system design'"
      ]
     },
     "execution_count": 6,
     "metadata": {},
     "output_type": "execute_result"
    }
   ],
   "source": [
    "d5['course'][2]"
   ]
  },
  {
   "cell_type": "code",
   "execution_count": 6,
   "id": "3d42bdd4-30e5-483b-a0a4-af2610ec8b30",
   "metadata": {},
   "outputs": [],
   "source": [
    "d6 = {\"number\" : [2,34,3,34,34] ,\"assignmet\" :(1,2,3,4,5,6) , \"launch_date\":{28,12,14} ,\"class_time\":{\"web_dev\": 8 ,\"Data science master\" :8 ,\"java with dsa and system design\" : 7}}"
   ]
  },
  {
   "cell_type": "code",
   "execution_count": 7,
   "id": "34420d80-045f-4227-ad2a-54919d19dc85",
   "metadata": {},
   "outputs": [
    {
     "data": {
      "text/plain": [
       "{'number': [2, 34, 3, 34, 34],\n",
       " 'assignmet': (1, 2, 3, 4, 5, 6),\n",
       " 'launch_date': {12, 14, 28},\n",
       " 'class_time': {'web_dev': 8,\n",
       "  'Data science master': 8,\n",
       "  'java with dsa and system design': 7}}"
      ]
     },
     "execution_count": 7,
     "metadata": {},
     "output_type": "execute_result"
    }
   ],
   "source": [
    "d6"
   ]
  },
  {
   "cell_type": "code",
   "execution_count": 10,
   "id": "840bee95-61e1-4cae-8ced-9607152bc058",
   "metadata": {},
   "outputs": [
    {
     "data": {
      "text/plain": [
       "7"
      ]
     },
     "execution_count": 10,
     "metadata": {},
     "output_type": "execute_result"
    }
   ],
   "source": [
    "d6[\"class_time\"]['java with dsa and system design']"
   ]
  },
  {
   "cell_type": "code",
   "execution_count": 11,
   "id": "ca937b3e-ce2c-413f-ab1c-12b5bf04b15a",
   "metadata": {},
   "outputs": [],
   "source": [
    "d6['mentor'] = [\"sudhanshu\" , \"krish\" , \"anurag\"  ,\"hayder\"]"
   ]
  },
  {
   "cell_type": "code",
   "execution_count": 12,
   "id": "363af99f-92e3-4a71-a220-35a322447069",
   "metadata": {},
   "outputs": [
    {
     "data": {
      "text/plain": [
       "{'number': [2, 34, 3, 34, 34],\n",
       " 'assignmet': (1, 2, 3, 4, 5, 6),\n",
       " 'launch_date': {12, 14, 28},\n",
       " 'class_time': {'web_dev': 8,\n",
       "  'Data science master': 8,\n",
       "  'java with dsa and system design': 7},\n",
       " 'mentor': ['sudhanshu', 'krish', 'anurag', 'hayder']}"
      ]
     },
     "execution_count": 12,
     "metadata": {},
     "output_type": "execute_result"
    }
   ],
   "source": [
    "d6"
   ]
  },
  {
   "cell_type": "code",
   "execution_count": 13,
   "id": "582a91ac-6313-46e9-9d4b-d16f4824e34d",
   "metadata": {},
   "outputs": [],
   "source": [
    "del d6['number']"
   ]
  },
  {
   "cell_type": "code",
   "execution_count": 14,
   "id": "8768d6e5-b20f-4502-9bd4-adc12315d2ba",
   "metadata": {},
   "outputs": [
    {
     "data": {
      "text/plain": [
       "{'assignmet': (1, 2, 3, 4, 5, 6),\n",
       " 'launch_date': {12, 14, 28},\n",
       " 'class_time': {'web_dev': 8,\n",
       "  'Data science master': 8,\n",
       "  'java with dsa and system design': 7},\n",
       " 'mentor': ['sudhanshu', 'krish', 'anurag', 'hayder']}"
      ]
     },
     "execution_count": 14,
     "metadata": {},
     "output_type": "execute_result"
    }
   ],
   "source": [
    "d6"
   ]
  },
  {
   "cell_type": "code",
   "execution_count": 16,
   "id": "e2faf8c4-31d5-4412-9053-1ad288fadf75",
   "metadata": {},
   "outputs": [
    {
     "data": {
      "text/plain": [
       "['assignmet', 'launch_date', 'class_time', 'mentor']"
      ]
     },
     "execution_count": 16,
     "metadata": {},
     "output_type": "execute_result"
    }
   ],
   "source": [
    "list(d6.keys())"
   ]
  },
  {
   "cell_type": "code",
   "execution_count": 17,
   "id": "05b42045-2e25-46f5-96b6-e115298b434d",
   "metadata": {},
   "outputs": [
    {
     "data": {
      "text/plain": [
       "[(1, 2, 3, 4, 5, 6),\n",
       " {12, 14, 28},\n",
       " {'web_dev': 8,\n",
       "  'Data science master': 8,\n",
       "  'java with dsa and system design': 7},\n",
       " ['sudhanshu', 'krish', 'anurag', 'hayder']]"
      ]
     },
     "execution_count": 17,
     "metadata": {},
     "output_type": "execute_result"
    }
   ],
   "source": [
    "list(d6.values())"
   ]
  },
  {
   "cell_type": "code",
   "execution_count": 18,
   "id": "d9312c26-2b90-4c35-a6af-f643acf7594e",
   "metadata": {},
   "outputs": [
    {
     "data": {
      "text/plain": [
       "[('assignmet', (1, 2, 3, 4, 5, 6)),\n",
       " ('launch_date', {12, 14, 28}),\n",
       " ('class_time',\n",
       "  {'web_dev': 8,\n",
       "   'Data science master': 8,\n",
       "   'java with dsa and system design': 7}),\n",
       " ('mentor', ['sudhanshu', 'krish', 'anurag', 'hayder'])]"
      ]
     },
     "execution_count": 18,
     "metadata": {},
     "output_type": "execute_result"
    }
   ],
   "source": [
    "list(d6.items())"
   ]
  },
  {
   "cell_type": "code",
   "execution_count": 21,
   "id": "8ff01294-c21e-4c8e-ae20-96b9f91be83c",
   "metadata": {},
   "outputs": [
    {
     "data": {
      "text/plain": [
       "(1, 2, 3, 4, 5, 6)"
      ]
     },
     "execution_count": 21,
     "metadata": {},
     "output_type": "execute_result"
    }
   ],
   "source": [
    "d6.pop('assignmet')"
   ]
  },
  {
   "cell_type": "code",
   "execution_count": 22,
   "id": "aa15a14f-29a7-4920-a615-d2eca550d16a",
   "metadata": {},
   "outputs": [
    {
     "data": {
      "text/plain": [
       "{'launch_date': {12, 14, 28},\n",
       " 'class_time': {'web_dev': 8,\n",
       "  'Data science master': 8,\n",
       "  'java with dsa and system design': 7},\n",
       " 'mentor': ['sudhanshu', 'krish', 'anurag', 'hayder']}"
      ]
     },
     "execution_count": 22,
     "metadata": {},
     "output_type": "execute_result"
    }
   ],
   "source": [
    "d6"
   ]
  },
  {
   "cell_type": "code",
   "execution_count": 23,
   "id": "32e5fb27-d0d9-42c3-a017-e1b6d00ca1a3",
   "metadata": {},
   "outputs": [
    {
     "ename": "TypeError",
     "evalue": "pop expected at least 1 argument, got 0",
     "output_type": "error",
     "traceback": [
      "\u001b[0;31m---------------------------------------------------------------------------\u001b[0m",
      "\u001b[0;31mTypeError\u001b[0m                                 Traceback (most recent call last)",
      "Cell \u001b[0;32mIn[23], line 1\u001b[0m\n\u001b[0;32m----> 1\u001b[0m \u001b[43md6\u001b[49m\u001b[38;5;241;43m.\u001b[39;49m\u001b[43mpop\u001b[49m\u001b[43m(\u001b[49m\u001b[43m)\u001b[49m\n",
      "\u001b[0;31mTypeError\u001b[0m: pop expected at least 1 argument, got 0"
     ]
    }
   ],
   "source": [
    "d6.pop()"
   ]
  },
  {
   "cell_type": "code",
   "execution_count": 13,
   "id": "e301e40c-44bf-4c9b-a3b6-2101821b452c",
   "metadata": {},
   "outputs": [
    {
     "name": "stdin",
     "output_type": "stream",
     "text": [
      "enter your marks 90\n"
     ]
    },
    {
     "name": "stdout",
     "output_type": "stream",
     "text": [
      "you will be a part of A0 batch\n"
     ]
    }
   ],
   "source": [
    "marks = int(input(\"enter your marks\"))\n",
    "if marks >= 80:\n",
    "    print(\"you will be a part of A0 batch\")\n",
    "elif marks >= 60 and marks> 80:\n",
    "    print(\"you will be a part of A1 batch\")\n",
    "elif marks >= 40 and marks >60 :\n",
    "    print(\"you will be a part of A2 batch\")\n",
    "else :\n",
    "    print(\"you will be a part of A3 batch\")"
   ]
  },
  {
   "cell_type": "code",
   "execution_count": 7,
   "id": "16475c15-2dd4-4a59-8ff8-1326ba67a7f4",
   "metadata": {},
   "outputs": [
    {
     "data": {
      "text/plain": [
       "False"
      ]
     },
     "execution_count": 7,
     "metadata": {},
     "output_type": "execute_result"
    }
   ],
   "source": [
    "10 >= 80"
   ]
  },
  {
   "cell_type": "code",
   "execution_count": 11,
   "id": "5874b4fd-9bea-4622-8cb8-a04f2b375bba",
   "metadata": {},
   "outputs": [
    {
     "name": "stdin",
     "output_type": "stream",
     "text": [
      "enter your marks 324\n"
     ]
    }
   ],
   "source": [
    "marks = int(input(\"enter your marks\"))"
   ]
  },
  {
   "cell_type": "code",
   "execution_count": 12,
   "id": "427a78da-2009-4537-b187-e5a71e41d55a",
   "metadata": {},
   "outputs": [
    {
     "data": {
      "text/plain": [
       "324"
      ]
     },
     "execution_count": 12,
     "metadata": {},
     "output_type": "execute_result"
    }
   ],
   "source": [
    "marks"
   ]
  },
  {
   "cell_type": "code",
   "execution_count": 10,
   "id": "0e116d50-0d61-4993-858d-71838b568072",
   "metadata": {},
   "outputs": [
    {
     "data": {
      "text/plain": [
       "int"
      ]
     },
     "execution_count": 10,
     "metadata": {},
     "output_type": "execute_result"
    }
   ],
   "source": [
    "type(marks)"
   ]
  },
  {
   "cell_type": "code",
   "execution_count": 17,
   "id": "2aaa6ec2-8ab9-4d8d-9bd2-9907d39ae268",
   "metadata": {},
   "outputs": [
    {
     "name": "stdin",
     "output_type": "stream",
     "text": [
      "enter price  500\n"
     ]
    },
    {
     "name": "stdout",
     "output_type": "stream",
     "text": [
      "i will purchase\n"
     ]
    }
   ],
   "source": [
    "price = int(input(\"enter price \" ))\n",
    "if price > 1000:\n",
    "  print(\"i will not purchase\")\n",
    "else :\n",
    "    print(\"i will purchase\")\n",
    "\n"
   ]
  },
  {
   "cell_type": "code",
   "execution_count": 6,
   "id": "07bfbcec-4e66-4509-b28f-e00284bebdf8",
   "metadata": {},
   "outputs": [
    {
     "name": "stdin",
     "output_type": "stream",
     "text": [
      "enter price 1500\n"
     ]
    },
    {
     "name": "stdout",
     "output_type": "stream",
     "text": [
      "i will not purchase \n",
      "its ok\n"
     ]
    }
   ],
   "source": [
    "price = int(input(\"enter price\"))\n",
    "if price > 1000:\n",
    "    print(\"i will not purchase \")\n",
    "    if price >5000:\n",
    "        print(\"this is too much\")\n",
    "    elif price < 2000 :\n",
    "            print(\"its ok\")\n",
    "elif price <1000 :\n",
    "    print(\"it will purchase\")\n",
    "else :\n",
    "    print(\"not intersted\")\n",
    "    \n",
    "            \n",
    "            \n"
   ]
  },
  {
   "cell_type": "code",
   "execution_count": 7,
   "id": "b5155969-457a-4c28-8c1e-3a94d9a889b2",
   "metadata": {},
   "outputs": [],
   "source": [
    "l = [1,2,3,3,4,5,6,7,8]"
   ]
  },
  {
   "cell_type": "code",
   "execution_count": 9,
   "id": "f31c1d35-5ec0-4516-82e2-7c366438c233",
   "metadata": {},
   "outputs": [
    {
     "data": {
      "text/plain": [
       "2"
      ]
     },
     "execution_count": 9,
     "metadata": {},
     "output_type": "execute_result"
    }
   ],
   "source": [
    "l[0] + 1"
   ]
  },
  {
   "cell_type": "code",
   "execution_count": 10,
   "id": "137ace26-cdad-4d50-962d-e52235758074",
   "metadata": {},
   "outputs": [],
   "source": [
    "l1 = []"
   ]
  },
  {
   "cell_type": "code",
   "execution_count": 11,
   "id": "87f9035a-8b3f-4552-b4e3-64f0174b4185",
   "metadata": {},
   "outputs": [],
   "source": [
    "l1.append(l[0] + 1)"
   ]
  },
  {
   "cell_type": "code",
   "execution_count": 12,
   "id": "98235077-bac3-4bc3-8f78-98cce98137f9",
   "metadata": {},
   "outputs": [
    {
     "data": {
      "text/plain": [
       "[2]"
      ]
     },
     "execution_count": 12,
     "metadata": {},
     "output_type": "execute_result"
    }
   ],
   "source": [
    "l1"
   ]
  },
  {
   "cell_type": "code",
   "execution_count": 13,
   "id": "8191eab0-5d81-4cce-a788-017290ed3a90",
   "metadata": {},
   "outputs": [],
   "source": [
    "l = [1,2,3,3,4,5,6,7,8]"
   ]
  },
  {
   "cell_type": "code",
   "execution_count": 17,
   "id": "6c3c6c14-6c8f-4f25-90af-5e20908dfaf5",
   "metadata": {},
   "outputs": [
    {
     "name": "stdout",
     "output_type": "stream",
     "text": [
      "2\n",
      "3\n",
      "4\n",
      "4\n",
      "5\n",
      "6\n",
      "7\n",
      "8\n",
      "9\n"
     ]
    },
    {
     "data": {
      "text/plain": [
       "[2, 3, 4, 4, 5, 6, 7, 8, 9]"
      ]
     },
     "execution_count": 17,
     "metadata": {},
     "output_type": "execute_result"
    }
   ],
   "source": [
    "l1 = []\n",
    "for i in l :\n",
    "    print(i+1)\n",
    "    l1.append(i+1)\n",
    "l1    \n"
   ]
  },
  {
   "cell_type": "code",
   "execution_count": 18,
   "id": "0054a343-50a3-4273-9fb6-bd19e5f9c194",
   "metadata": {},
   "outputs": [
    {
     "data": {
      "text/plain": [
       "[1, 2, 3, 3, 4, 5, 6, 7, 8]"
      ]
     },
     "execution_count": 18,
     "metadata": {},
     "output_type": "execute_result"
    }
   ],
   "source": [
    "l"
   ]
  },
  {
   "cell_type": "code",
   "execution_count": 20,
   "id": "3594f76c-69d2-4189-9079-88ceba663cd9",
   "metadata": {},
   "outputs": [],
   "source": [
    "l = [\"sudh\" , \"kumar\" , \"pwskills\" ,\"course\"]"
   ]
  },
  {
   "cell_type": "code",
   "execution_count": 23,
   "id": "5b47bcda-1768-4237-bc0e-02f0c6545277",
   "metadata": {},
   "outputs": [
    {
     "name": "stdout",
     "output_type": "stream",
     "text": [
      "sudh\n",
      "kumar\n",
      "pwskills\n",
      "course\n"
     ]
    }
   ],
   "source": [
    "l1 = []\n",
    "for i in l :\n",
    "    print(i)\n",
    "    l1.append(i.upper())"
   ]
  },
  {
   "cell_type": "code",
   "execution_count": 24,
   "id": "0d930d04-c278-44f6-825a-69c4293924d9",
   "metadata": {},
   "outputs": [
    {
     "data": {
      "text/plain": [
       "['SUDH', 'KUMAR', 'PWSKILLS', 'COURSE']"
      ]
     },
     "execution_count": 24,
     "metadata": {},
     "output_type": "execute_result"
    }
   ],
   "source": [
    "l1"
   ]
  },
  {
   "cell_type": "code",
   "execution_count": 25,
   "id": "7c8767b7-5ad9-45bf-9e95-44e139d38428",
   "metadata": {},
   "outputs": [],
   "source": [
    "l = [1,2,3,4,4,\"sudh\" , \"kumar\" , 324,34.456, \"abc\"]"
   ]
  },
  {
   "cell_type": "code",
   "execution_count": 26,
   "id": "056502a3-502c-4260-b14c-ccabf9ee8125",
   "metadata": {},
   "outputs": [],
   "source": [
    "l1_num = []\n",
    "l2_str = []\n",
    "for i in l :\n",
    "    if type(i) == int or type(i) == float :\n",
    "        l1_num.append(i)\n",
    "    else :\n",
    "        l2_str.append(i)"
   ]
  },
  {
   "cell_type": "code",
   "execution_count": 27,
   "id": "458bbfe9-cc93-40a1-9cd9-93a049c7f240",
   "metadata": {},
   "outputs": [
    {
     "data": {
      "text/plain": [
       "[1, 2, 3, 4, 4, 324, 34.456]"
      ]
     },
     "execution_count": 27,
     "metadata": {},
     "output_type": "execute_result"
    }
   ],
   "source": [
    "l1_num"
   ]
  },
  {
   "cell_type": "code",
   "execution_count": 28,
   "id": "22b57353-36de-4520-99ec-8c82fc8432e7",
   "metadata": {},
   "outputs": [
    {
     "data": {
      "text/plain": [
       "['sudh', 'kumar', 'abc']"
      ]
     },
     "execution_count": 28,
     "metadata": {},
     "output_type": "execute_result"
    }
   ],
   "source": [
    "l2_str"
   ]
  },
  {
   "cell_type": "code",
   "execution_count": null,
   "id": "e797ae41-e97e-4553-982d-68e7c7f5b8e7",
   "metadata": {},
   "outputs": [],
   "source": []
  }
 ],
 "metadata": {
  "kernelspec": {
   "display_name": "Python 3 (ipykernel)",
   "language": "python",
   "name": "python3"
  },
  "language_info": {
   "codemirror_mode": {
    "name": "ipython",
    "version": 3
   },
   "file_extension": ".py",
   "mimetype": "text/x-python",
   "name": "python",
   "nbconvert_exporter": "python",
   "pygments_lexer": "ipython3",
   "version": "3.10.8"
  }
 },
 "nbformat": 4,
 "nbformat_minor": 5
}
